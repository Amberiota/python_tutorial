{
 "cells": [
  {
   "cell_type": "markdown",
   "metadata": {},
   "source": [
    "# Class 8 Python Set\n",
    "\n",
    "\n",
    "## 8.1 Set Types\n",
    "\n",
    "Characters of a set object:\n",
    "    \n",
    "    1. unordered\n",
    "    2. hashable\n",
    "    3. unique\n",
    "\n",
    "> However, since sets are unordered, you do not index into or slice them, and there are no keys used to access a value.\n",
    "\n",
    "Two types of set: \n",
    "\n",
    "    1. mutable (set), cannot be used as key of a dicionary.\n",
    "    2. immutable (frozenset), can be used as key of a dicionary.\n",
    "\n",
    "## 8.2 Set Type Operators\n",
    "\n",
    "> Two sets are equal if and only if every member of each set is a member of the other."
   ]
  },
  {
   "cell_type": "code",
   "execution_count": 14,
   "metadata": {},
   "outputs": [
    {
     "name": "stdout",
     "output_type": "stream",
     "text": [
      "set([1, 2, 3, 4, 5, 6, 7, 9])\n",
      "set([1, 2, 3, 4, 5, 6, 7, 9])\n",
      "frozenset([1, 2, 3, 4, 5, 6, 7, 9])\n",
      "frozenset([1, 2, 3, 4, 5, 6, 7, 9])\n"
     ]
    }
   ],
   "source": [
    "# union\n",
    "\n",
    "s = {1, 2, 5, 6, 9}\n",
    "t = frozenset((1, 2, 7, 4, 3))\n",
    "\n",
    "print(s|t)\n",
    "print(s.union(t))\n",
    "\n",
    "print(t|s)\n",
    "print(t.union(s))"
   ]
  },
  {
   "cell_type": "code",
   "execution_count": 15,
   "metadata": {},
   "outputs": [
    {
     "name": "stdout",
     "output_type": "stream",
     "text": [
      "set([1, 2])\n",
      "set([1, 2])\n",
      "frozenset([1, 2])\n",
      "frozenset([1, 2])\n"
     ]
    }
   ],
   "source": [
    "# intersection\n",
    "\n",
    "s = {1, 2, 5, 6, 9}\n",
    "t = frozenset((1, 2, 7, 4, 3))\n",
    "\n",
    "print(s&t)\n",
    "print(s.intersection(t))\n",
    "\n",
    "print(t&s)\n",
    "print(t.intersection(s))"
   ]
  },
  {
   "cell_type": "code",
   "execution_count": 16,
   "metadata": {},
   "outputs": [
    {
     "name": "stdout",
     "output_type": "stream",
     "text": [
      "set([9, 5, 6])\n",
      "set([9, 5, 6])\n",
      "frozenset([3, 4, 7])\n",
      "frozenset([3, 4, 7])\n"
     ]
    }
   ],
   "source": [
    "# difference\n",
    "\n",
    "s = {1, 2, 5, 6, 9}\n",
    "t = frozenset((1, 2, 7, 4, 3))\n",
    "\n",
    "print(s-t)\n",
    "print(s.difference(t))\n",
    "\n",
    "print(t-s)\n",
    "print(t.difference(s))"
   ]
  },
  {
   "cell_type": "code",
   "execution_count": 17,
   "metadata": {},
   "outputs": [
    {
     "name": "stdout",
     "output_type": "stream",
     "text": [
      "set([3, 4, 5, 6, 7, 9])\n",
      "set([3, 4, 5, 6, 7, 9])\n",
      "frozenset([3, 4, 5, 6, 7, 9])\n",
      "frozenset([3, 4, 5, 6, 7, 9])\n"
     ]
    }
   ],
   "source": [
    "# symmetric difference\n",
    "\n",
    "s = {1, 2, 5, 6, 9}\n",
    "t = frozenset((1, 2, 7, 4, 3))\n",
    "\n",
    "print(s^t)\n",
    "print(s.symmetric_difference(t))\n",
    "\n",
    "print(t^s)\n",
    "print(t.symmetric_difference(s))"
   ]
  },
  {
   "cell_type": "markdown",
   "metadata": {},
   "source": [
    "## 8.3 Set Type Built-in Methods"
   ]
  },
  {
   "cell_type": "code",
   "execution_count": 20,
   "metadata": {},
   "outputs": [
    {
     "name": "stdout",
     "output_type": "stream",
     "text": [
      "False\n",
      "False\n",
      "set([1, 2, 5, 6, 9])\n"
     ]
    }
   ],
   "source": [
    "print(s.issubset(t))\n",
    "print(s.issuperset(t))\n",
    "print(s.copy())"
   ]
  }
 ],
 "metadata": {
  "kernelspec": {
   "display_name": "Python 2",
   "language": "python",
   "name": "python2"
  },
  "language_info": {
   "codemirror_mode": {
    "name": "ipython",
    "version": 2
   },
   "file_extension": ".py",
   "mimetype": "text/x-python",
   "name": "python",
   "nbconvert_exporter": "python",
   "pygments_lexer": "ipython2",
   "version": "2.7.15"
  }
 },
 "nbformat": 4,
 "nbformat_minor": 2
}
