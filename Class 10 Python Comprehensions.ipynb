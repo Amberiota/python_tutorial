{
 "cells": [
  {
   "cell_type": "markdown",
   "metadata": {},
   "source": [
    "#  Class 10 Pytyhon Comprehensions\n",
    "\n",
    "## 10.1 Iterators and `iter()` Function\n",
    "\n",
    "1. an iterator is any item that has a `next()` method.\n",
    "\n",
    "> Iterators come in handy when you are iterating over something that is not a sequence but exhibits behavior that makes it seem like a sequence, for example, keys of a dictionary, lines of a file, etc.\n",
    "\n",
    "2. If you want to iterate over the same objects again (or simultaneously), you have to create another iterator object.\n",
    "\n",
    "3. Iterators can work with most Python data types: list, str, dict, tuple, set, etc\n"
   ]
  },
  {
   "cell_type": "code",
   "execution_count": 3,
   "metadata": {},
   "outputs": [
    {
     "ename": "NameError",
     "evalue": "name 'do_something_to' is not defined",
     "output_type": "error",
     "traceback": [
      "\u001b[0;31m---------------------------------------------------------------------------\u001b[0m",
      "\u001b[0;31mNameError\u001b[0m                                 Traceback (most recent call last)",
      "\u001b[0;32m<ipython-input-3-cb5ffb6199cd>\u001b[0m in \u001b[0;36m<module>\u001b[0;34m()\u001b[0m\n\u001b[1;32m      2\u001b[0m \u001b[0;34m\u001b[0m\u001b[0m\n\u001b[1;32m      3\u001b[0m \u001b[0;32mfor\u001b[0m \u001b[0mi\u001b[0m \u001b[0;32min\u001b[0m \u001b[0mseq\u001b[0m\u001b[0;34m:\u001b[0m\u001b[0;34m\u001b[0m\u001b[0m\n\u001b[0;32m----> 4\u001b[0;31m     \u001b[0mdo_something_to\u001b[0m\u001b[0;34m(\u001b[0m\u001b[0mi\u001b[0m\u001b[0;34m)\u001b[0m\u001b[0;34m\u001b[0m\u001b[0m\n\u001b[0m\u001b[1;32m      5\u001b[0m \u001b[0;34m\u001b[0m\u001b[0m\n\u001b[1;32m      6\u001b[0m \u001b[0;31m#############################\u001b[0m\u001b[0;34m\u001b[0m\u001b[0;34m\u001b[0m\u001b[0m\n",
      "\u001b[0;31mNameError\u001b[0m: name 'do_something_to' is not defined"
     ]
    }
   ],
   "source": [
    "seq = [5, 3, 2, 8]\n",
    "\n",
    "for i in seq:\n",
    "    do_something_to(i)\n",
    "    \n",
    "#############################    \n",
    "    \n",
    "fetch = iter(seq)\n",
    "while True:\n",
    "    try:\n",
    "        i = fetch.next() \n",
    "    except StopIteration:\n",
    "        break \n",
    "    do_something_to(i)"
   ]
  },
  {
   "cell_type": "markdown",
   "metadata": {},
   "source": [
    "## 10.2 list comprehensions\n",
    "\n",
    "1. Basic format\n",
    "\n",
    "`[expr for iter_var in iterable]`\n",
    "\n",
    "Which equals to:\n",
    "\n",
    "`result_list = []\n",
    "for iter_vae in iterable:\n",
    "    result = expr\n",
    "    result_list.append(result)`\n",
    "    \n",
    "2. Extended synatax with `if`\n",
    "\n",
    "`[expr for iter_var in iterable if cond_expr]`\n",
    "\n",
    "`[expr for iter_var in iterable if not cond_expr]`\n",
    "\n",
    "\n",
    "\n",
    "Which equals to:\n",
    "\n",
    "`for iter_vae in iterable:\n",
    "    if cond_expr:\n",
    "        expr`\n",
    "        \n",
    "3. Two iterables:\n",
    "\n",
    "`[expr for iter_var1 in iterable1 for iter_var2 in iterable2]`\n",
    "\n",
    "Which equals to:\n",
    "\n",
    "`for iter_vae1 in iterable1:\n",
    "    for iter_vae2 in iterable2:\n",
    "        expr`"
   ]
  },
  {
   "cell_type": "code",
   "execution_count": 1,
   "metadata": {},
   "outputs": [
    {
     "name": "stdout",
     "output_type": "stream",
     "text": [
      "[6, 12, 18, 9, 27]\n",
      "[4, 3, 9]\n",
      "[4, 10, 12, 14, 16, 8, 20, 24, 28, 32, 12, 30, 36, 42, 48, 6, 15, 18, 21, 24, 18, 45, 54, 63, 72]\n",
      "[4, 20, 36, 21, 72]\n"
     ]
    }
   ],
   "source": [
    "ll = [2, 4, 6, 3, 9]\n",
    "kk = [2, 5, 6, 7, 8]\n",
    "\n",
    "print([i * 3 for i in ll])\n",
    "\n",
    "print([i for i in ll if i not in kk])\n",
    "\n",
    "print([i * j for i in ll for j in kk])\n",
    "\n",
    "print([i * j for i, j in zip(ll, kk)])"
   ]
  },
  {
   "cell_type": "markdown",
   "metadata": {},
   "source": [
    "## 10.3 Dictionary comprehensions\n",
    "\n",
    "1. Basic format\n",
    "\n",
    "`{expr for (key, value) in dic.items()}`\n",
    "\n",
    "`{expr for (key, value) in dic.iteritems()}`\n",
    "\n",
    "\n",
    "Which equals to:\n",
    "\n",
    "`for key, value in dic.items():\n",
    "    expr`\n",
    "    \n",
    "2. Extended synatax with `if`\n",
    "\n",
    "`{expr for (key, value) in dic.items() if cond_expr}`\n",
    "\n",
    "Which equals to:\n",
    "\n",
    "`for key, value in dic.items():\n",
    "    if cond_expr:\n",
    "        expr`\n",
    "        \n",
    "3. Two iterables:\n",
    "\n",
    "`{expr for (key1, value1) in dic1.items() for (key2, value2) in dic2.items()}`\n",
    "\n",
    "Which equals to:\n",
    "\n",
    "`for key1, value1 in dic1.items():\n",
    "    for key2, value2 in dic2.items()\n",
    "        expr`"
   ]
  },
  {
   "cell_type": "code",
   "execution_count": 2,
   "metadata": {},
   "outputs": [
    {
     "name": "stdout",
     "output_type": "stream",
     "text": [
      "{'a': 12, 'h': 36, 'q': 54, 'g': 24, 'p': 18}\n",
      "{'q': 1, 'p': 0}\n",
      "{'a': 4, 'h': 12, 'q': 18, 'g': 8, 'p': 6}\n"
     ]
    }
   ],
   "source": [
    "dd = {'a': 2, 'g': 4, 'h': 6, 'p': 3, 'q': 9}\n",
    "ff = {'f': 2, 's': 5, 't': 6, 'p': 7, 'q': 8}\n",
    "\n",
    "print({k: v*6 for (k, v) in dd.iteritems()})\n",
    "\n",
    "print({k: v//5 for (k, v) in dd.iteritems() if k in ff.iterkeys()})\n",
    "\n",
    "print({k1: v1 * v2 for (k1, v1) in dd.iteritems() for (k2, v2) in ff.iteritems() })"
   ]
  },
  {
   "cell_type": "markdown",
   "metadata": {},
   "source": [
    "## 10.4 Set comprehensions\n",
    "\n",
    "They are similar to list comprehensions\n",
    "\n",
    "`{expr for item in set1}`\n",
    "\n",
    "## 10.5 Generator and Lazy computing\n",
    "\n",
    "1. Lazy computing: the computing is only carried out in excution, not in defining.\n",
    "\n",
    "> A generator is a specialized function that allows you to return a value and “pause” the execution of that code and resume it at a later time.\n",
    "\n",
    "> Generator expressions are much more memory efficient by performing “lazy evaluation.”\n",
    "\n",
    "2. Basic format:\n",
    "\n",
    "list comprehension: `[expr for iter_var in iterable]`\n",
    "\n",
    "\n",
    "generator comprehension: `(expr for iter_var in iterable if cond_expr)`\n",
    "\n",
    "3. Genarator can be only computed once."
   ]
  },
  {
   "cell_type": "code",
   "execution_count": 8,
   "metadata": {},
   "outputs": [
    {
     "name": "stdout",
     "output_type": "stream",
     "text": [
      "[2, 4, 6, 3, 9]\n",
      "<generator object <genexpr> at 0x108de02d0>\n",
      "[4, 3, 9]\n",
      "<generator object <genexpr> at 0x108de0690>\n",
      "[4, 10, 12, 14, 16, 8, 20, 24, 28, 32, 12, 30, 36, 42, 48, 6, 15, 18, 21, 24, 18, 45, 54, 63, 72]\n",
      "<generator object <genexpr> at 0x108de0690>\n",
      "[4, 20, 36, 21, 72]\n",
      "<generator object <genexpr> at 0x108de02d0>\n"
     ]
    }
   ],
   "source": [
    "ll = [2, 4, 6, 3, 9]\n",
    "kk = [2, 5, 6, 7, 8]\n",
    "\n",
    "print([i for i in ll])\n",
    "print(i for i in ll)\n",
    "\n",
    "print([i for i in ll if i not in kk])\n",
    "print(i for i in ll if i not in kk)\n",
    "\n",
    "print([i * j for i in ll for j in kk])\n",
    "print(i * j for i in ll for j in kk)\n",
    "\n",
    "print([i * j for i, j in zip(ll, kk)])\n",
    "print(i * j for i, j in zip(ll, kk))"
   ]
  }
 ],
 "metadata": {
  "kernelspec": {
   "display_name": "Python 2",
   "language": "python",
   "name": "python2"
  },
  "language_info": {
   "codemirror_mode": {
    "name": "ipython",
    "version": 2
   },
   "file_extension": ".py",
   "mimetype": "text/x-python",
   "name": "python",
   "nbconvert_exporter": "python",
   "pygments_lexer": "ipython2",
   "version": "2.7.15"
  }
 },
 "nbformat": 4,
 "nbformat_minor": 2
}
