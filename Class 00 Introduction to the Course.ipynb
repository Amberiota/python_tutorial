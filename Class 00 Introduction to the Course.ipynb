{
 "cells": [
  {
   "cell_type": "markdown",
   "metadata": {},
   "source": [
    "# Introduction to the Course\n",
    "\n",
    "## Who I am?\n",
    "\n",
    "I have been using Python for 4 years.\n",
    "\n",
    "I mainly use Python for natuaral languagse processing (NLP) and data analysis.\n",
    "\n",
    "Some Python toolkits I am familiar with:\n",
    "    \n",
    "    1. pandas\n",
    "    \n",
    "    2. scikit‑learn\n",
    "    \n",
    "    3. spaCy\n",
    "\n",
    "## What is this course?\n",
    "\n",
    "This course aims to help non-programmer to learn Python from scrach.\n",
    "\n",
    "This cource will cover the fundamentals of Python data structures:\n",
    "\n",
    "0. Introduction to the course\n",
    "\n",
    "1. Introduction to Python\n",
    "\n",
    "2. Python basics\n",
    "\n",
    "3. Python objects\n",
    "\n",
    "4. Numbers\n",
    "\n",
    "5. String and string format\n",
    "\n",
    "6. Lists\n",
    "\n",
    "7. Tuples\n",
    "\n",
    "8. Sets and Dictionaries\n",
    "\n",
    "9. Conditions and loops\n",
    "\n",
    "10. Files\n",
    "\n",
    "\n",
    "## What will you get from this course?\n",
    "\n",
    "1. How to write Python functions\n",
    "\n",
    "2. How to use the above Python data structures\n",
    "\n",
    "3. How to write simple Python scripts\n",
    "\n",
    "4. How to think in a Python way\n"
   ]
  },
  {
   "cell_type": "markdown",
   "metadata": {},
   "source": [
    "## A Python example"
   ]
  },
  {
   "cell_type": "code",
   "execution_count": 1,
   "metadata": {},
   "outputs": [
    {
     "data": {
      "text/plain": [
       "[147600, 162500, 177800, 193500, 209600, 226100, 243000, 260300]"
      ]
     },
     "execution_count": 1,
     "metadata": {},
     "output_type": "execute_result"
    }
   ],
   "source": [
    "b = [1200, 1300, 1400, 1500, 1600, 1700, 1800, 1900]\n",
    "c = [123, 125, 127, 129, 131, 133, 135, 137]\n",
    "\n",
    "def get_product(list1, list2):\n",
    "    result = []\n",
    "    for i in range(len(list1)):\n",
    "        result.append(list1[i] * list2[i])\n",
    "    return result\n",
    "\n",
    "get_product(b, c)"
   ]
  },
  {
   "cell_type": "code",
   "execution_count": 4,
   "metadata": {},
   "outputs": [
    {
     "data": {
      "text/plain": [
       "[147600, 162500, 177800, 193500, 209600, 226100, 243000, 260300]"
      ]
     },
     "execution_count": 4,
     "metadata": {},
     "output_type": "execute_result"
    }
   ],
   "source": [
    "b = [1200, 1300, 1400, 1500, 1600, 1700, 1800, 1900]\n",
    "c = [123, 125, 127, 129, 131, 133, 135, 137]\n",
    "\n",
    "\n",
    "d = [1200, 1300, 1400, 1500, 1600, 1700, 1800, 1900, 200]\n",
    "e = [123, 125, 127, 129, 131, 133, 135, 137, 12]\n",
    "\n",
    "def get_product2(list1, list2):\n",
    "    return [(list1[i] * list2[i]) for i in range(len(list1))] # list comprehension\n",
    "\n",
    "get_product2(b, c)\n",
    "get_product2(d, e)"
   ]
  },
  {
   "cell_type": "markdown",
   "metadata": {},
   "source": [
    "## Python Function"
   ]
  },
  {
   "cell_type": "markdown",
   "metadata": {},
   "source": [
    "    result = [(list1[i] * list2[i]) for i in range(len(list1))] # !! Don't write in this way"
   ]
  },
  {
   "cell_type": "code",
   "execution_count": 20,
   "metadata": {
    "collapsed": true
   },
   "outputs": [],
   "source": [
    "# In function\n",
    "\n",
    "def get_product(list1, list2): # definition\n",
    "    \"\"\"\n",
    "    this function calculates products from two lists\n",
    "    :param list1: a list of int\n",
    "    :param list2: a list of int\n",
    "    :return: a list of int\n",
    "    \"\"\"\n",
    "    \n",
    "    result = []\n",
    "    for i in range(len(list1)): \n",
    "        # use range as a counter\n",
    "        result.append(list1[i] * list2[i])\n",
    "        \n",
    "    return result # return"
   ]
  },
  {
   "cell_type": "markdown",
   "metadata": {},
   "source": [
    "## How we learn together?\n",
    "\n",
    "1. Read the relevant chapter before each class,\n",
    "\n",
    "2. Finish the following exercises after reading (as much as possible)\n",
    "\n",
    "3. Prepare questions to the class\n",
    "\n",
    "4. We will go through questions and exercises\n",
    "\n",
    "5. Audio recordings and exercise solution will be provided\n",
    "\n",
    "\n",
    "## Which book will be used in this course?\n",
    "\n",
    "Original version:\n",
    "\n",
    "[Core Python Applications Programming](https://book.douban.com/subject/7069379/)\n",
    "\n",
    "[Amazon link](https://www.amazon.cn/mn/detailApp/ref=asc_df_01326782092989178/?asin=0132678209)\n",
    "\n",
    "Chinese version:\n",
    "\n",
    "[Python核心编程（第二版）](https://book.douban.com/subject/3112503/)\n",
    "\n",
    "[Amazon link](https://www.amazon.cn/mn/detailApp/ref=asc_df_B001BKVXOA2989618/?asin=B001BKVXOA&t)\n",
    "\n",
    "\n",
    "## Todo for next class\n",
    "\n",
    "1. Please install Python 2.7 on your computer https://www.python.org/downloads/\n",
    "\n",
    "2. Please review this tutorial\n",
    "\n",
    "3. Please read the chapter for next class (Ch 2 in CPAP2)\n",
    "\n",
    "4. Please finish the exercises for next class\n",
    "\n",
    "__Optinoal:__ \n",
    "\n",
    "1. Please install Jupyter Notebook on your computer https://jupyter.readthedocs.io/en/latest/install.html\n",
    "\n",
    "2. Optional: Please read Ch 1 of CPAP2"
   ]
  }
 ],
 "metadata": {
  "kernelspec": {
   "display_name": "Python 2",
   "language": "python",
   "name": "python2"
  },
  "language_info": {
   "codemirror_mode": {
    "name": "ipython",
    "version": 2
   },
   "file_extension": ".py",
   "mimetype": "text/x-python",
   "name": "python",
   "nbconvert_exporter": "python",
   "pygments_lexer": "ipython2",
   "version": "2.7.15"
  }
 },
 "nbformat": 4,
 "nbformat_minor": 2
}
