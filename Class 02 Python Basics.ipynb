{
 "cells": [
  {
   "cell_type": "markdown",
   "metadata": {},
   "source": [
    "# Class 2 Python Basics\n",
    "\n",
    "## 2.1 Statements and Syntax\n",
    "\n",
    "### 2.1.1 Continuation\n",
    "\n",
    "> A single statement can take up more than one line when enclosing operators are used, i.e., parentheses, square brackets, or braces, and when NEWLINEs are contained in strings enclosed in triple quotes.\n",
    "\n",
    "The length of one line should be no more than 80 characters.\n",
    "\n",
    "### 2.1.2 Spaces VS. tabs\n",
    "\n",
    "Use 4 spaces instead of a tab to be the indentation.\n",
    "\n",
    "> Also, because tabs vary in the number of spaces depending on your system, we recommend not using tabs if there is any hint of cross-platform development.\n",
    "\n",
    "### 2.1.3 Multiple statements\n",
    "\n",
    "Do not put multiple statements in a single line.\n",
    "\n",
    "\n",
    "## 2.2 Variable Assignment\n",
    "\n",
    "### 2.2.1 Augmented Assignment\n",
    "\n",
    "> +=  <<=   -=   >>=  \\*=   &=  /=  ^=  %=  |=  **=\n",
    "\n",
    "### 2.2.2 “Multuple” Assignment\n",
    "\n",
    "> Obviously, Python performs evaluation before making assignments.\n"
   ]
  },
  {
   "cell_type": "code",
   "execution_count": 24,
   "metadata": {},
   "outputs": [
    {
     "name": "stdout",
     "output_type": "stream",
     "text": [
      "('x=', 1, 'y=', 2, 'z=', 'a string')\n"
     ]
    }
   ],
   "source": [
    "x, y, z = 1, 2, 'a string'\n",
    "print('x=', x, 'y=', y, 'z=', z)"
   ]
  },
  {
   "cell_type": "code",
   "execution_count": 25,
   "metadata": {},
   "outputs": [
    {
     "name": "stdout",
     "output_type": "stream",
     "text": [
      "('x=', 'a string', 'y=', 1, 'z=', 2)\n"
     ]
    }
   ],
   "source": [
    "x, y, z = z, x, y\n",
    "print('x=', x, 'y=', y, 'z=', z)"
   ]
  },
  {
   "cell_type": "markdown",
   "metadata": {},
   "source": [
    "## 2.3 Identifiers\n",
    "\n",
    "### 2.3.1 Valid Python Identifiers\n",
    "\n",
    "> • First character must be a letter or underscore ( _ )\n",
    "\n",
    "> • Any additional characters can be alphanumeric or underscore\n",
    "\n",
    "> • Case-sensitive\n",
    "\n",
    "> • No identifiers can begin with a number, and no symbols other than the underscore are ever allowed.\n",
    "\n",
    "\n",
    "### 2.3.2 Special Underscore Identifiers\n",
    "\n",
    "Avoid beginning variable names with the underscore.\n",
    "\n",
    "> • \\_xxx Do not import with 'from module import *' \n",
    "\n",
    "> • \\__xxx\\__ System-defined name \n",
    "\n",
    "> • \\__xxx Request private name mangling in classes\n",
    "\n",
    "\n",
    "## 2.4 Basic Style Guidelines\n",
    "\n",
    "Follow [PEP8](https://www.python.org/dev/peps/pep-0008/), [pep8.org](http://pep8.org/)\n",
    "\n",
    "\n",
    "### 2.4.1 Module Structure and Layout\n",
    "\n",
    "__It is important to bear in mind that most modules are created solely to be imported rather than to execute as scripts.__\n",
    "\n",
    "(1) startup line (Unix) \n",
    "\n",
    "(2) module documentation \n",
    "\n",
    "(3) module imports \n",
    "\n",
    "(4) variable declarations \n",
    "\n",
    "(5) class declarations\n",
    "\n",
    "(6) function declarations \n",
    "\n",
    "(7) \"main\" body\n",
    "\n",
    "### 2.4.2 import ... VS from ... import ...\n",
    "\n",
    "import ... : import the entire library\n",
    "\n",
    "import ... as ... : import a libray as abbreviation\n",
    "\n",
    "from ... import ... import the specific class / function from a library"
   ]
  },
  {
   "cell_type": "code",
   "execution_count": 18,
   "metadata": {
    "collapsed": true
   },
   "outputs": [],
   "source": [
    "import datetime\n",
    "\n",
    "import datetime as dt\n",
    "\n",
    "from collections import defaultdict"
   ]
  },
  {
   "cell_type": "markdown",
   "metadata": {},
   "source": [
    "## 2.5 Memory Management\n",
    "\n",
    "### 2.5.1 Dynamic Typing\n",
    "\n",
    "> In Python, the type and memory space for an object are determined and allocated at runtime.\n",
    "\n",
    "### 2.5.2 Garbage Collection\n",
    "\n",
    "> The garbage collector is a separate piece of code that looks for objects with reference counts of zero.\n",
    "\n",
    "## 2.6 The first Python Program"
   ]
  },
  {
   "cell_type": "code",
   "execution_count": 19,
   "metadata": {},
   "outputs": [
    {
     "name": "stdout",
     "output_type": "stream",
     "text": [
      "Enter file name: as\n",
      "\n",
      "Enter lines ('.' by itself to quit).\n",
      "\n",
      "> .\n",
      "DONE!\n"
     ]
    }
   ],
   "source": [
    "#!/usr/bin/env python\n",
    "\n",
    "'makeTextFile.py -- create text file' \n",
    "\n",
    "import os \n",
    "\n",
    "# get filename \n",
    "\n",
    "def evaluate_file():\n",
    "    while True:\n",
    "\n",
    "        fname = raw_input('Enter file name: ')\n",
    "#         if os.path.exists(fname):\n",
    "#             print(\"ERROR: '%s' already exists\" % fname)\n",
    "\n",
    "        try:\n",
    "            os.path.exists(fname):\n",
    "        except IOError, e:\n",
    "            print 'file existed'\n",
    "            \n",
    "            \n",
    "        else:\n",
    "            break\n",
    "    return fname\n",
    "        \n",
    "# get file content (text) lines\n",
    "\n",
    "def get_contetnt():\n",
    "    all = []\n",
    "    print(\"\\nEnter lines ('.' by itself to quit).\\n\")\n",
    "\n",
    "    # loop until user terminates input \n",
    "\n",
    "    while True:\n",
    "        entry = raw_input('> ')\n",
    "        if entry == '.':\n",
    "            break\n",
    "        else:\n",
    "            all.append(entry)\n",
    "    return all\n",
    "\n",
    "# write lines to file with proper line-ending\n",
    "\n",
    "def write_file(fname, content):\n",
    "    fobj = open(fname, 'w')\n",
    "    fobj.write('\\n'.join(content))\n",
    "    fobj.close()\n",
    "    print('DONE!')\n",
    "    \n",
    "    \n",
    "if __name__ == '__main__':\n",
    "    evaluate_file()\n",
    "    get_content()\n",
    "    write_file()"
   ]
  },
  {
   "cell_type": "code",
   "execution_count": 21,
   "metadata": {},
   "outputs": [
    {
     "name": "stdout",
     "output_type": "stream",
     "text": [
      "Enter filename: as\n",
      "\n"
     ]
    }
   ],
   "source": [
    "#!/usr/bin/env python\n",
    "\n",
    "'readTextFile.py -- read and display text file' \n",
    "\n",
    "# get filename\n",
    "\n",
    "fname = raw_input('Enter filename: ')\n",
    "\n",
    "print\n",
    "\n",
    "# attempt to open file for reading\n",
    "\n",
    "try:\n",
    "    fobj = open(fname, 'r')\n",
    "except IOError, e:\n",
    "    print \"*** file open error:\", e\n",
    "else:\n",
    "    # display contents to the screen\n",
    "    for eachLine in fobj:\n",
    "        print eachLine\n",
    "    fobj.close()"
   ]
  },
  {
   "cell_type": "code",
   "execution_count": null,
   "metadata": {
    "collapsed": true
   },
   "outputs": [],
   "source": []
  }
 ],
 "metadata": {
  "kernelspec": {
   "display_name": "Python 2",
   "language": "python",
   "name": "python2"
  },
  "language_info": {
   "codemirror_mode": {
    "name": "ipython",
    "version": 2
   },
   "file_extension": ".py",
   "mimetype": "text/x-python",
   "name": "python",
   "nbconvert_exporter": "python",
   "pygments_lexer": "ipython2",
   "version": "2.7.15"
  }
 },
 "nbformat": 4,
 "nbformat_minor": 2
}
