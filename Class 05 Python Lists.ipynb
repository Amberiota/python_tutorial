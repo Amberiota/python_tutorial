{
 "cells": [
  {
   "cell_type": "markdown",
   "metadata": {},
   "source": [
    "# Class 5 Python Lists\n",
    "\n",
    "Lists can store other Python objects with different hierarchy, which make the list a nested list.\n",
    "\n",
    "Design wisely when you use a nested list, as it may bring serious performance inefficiency.\n",
    "\n",
    "> Lists are flexible container objects that hold an arbitrary number of Python objects.\n",
    "\n",
    "> The objects that you can place in a list can include standard types and objects as well as user-defined ones.\n",
    "\n",
    "## 5.1 Operators\n",
    "\n",
    "### 5.1.1 Accessing items in lists\n",
    "\n",
    "Similar to slicing as in `str`.\n",
    "\n",
    "Be careful of the hierarchy when accessing an item in a nested list."
   ]
  },
  {
   "cell_type": "code",
   "execution_count": 2,
   "metadata": {},
   "outputs": [
    {
     "data": {
      "text/plain": [
       "'x'"
      ]
     },
     "execution_count": 2,
     "metadata": {},
     "output_type": "execute_result"
    }
   ],
   "source": [
    "mixup_list = [4.0, [1, 'x'], 'beef', -1.9+6j]\n",
    "mixup_list[1][1]"
   ]
  },
  {
   "cell_type": "markdown",
   "metadata": {},
   "source": [
    "### 5.1.2. Concatenation\n",
    "\n",
    "> In other words, you can concatenate only objects of the same type.\n",
    "\n",
    "> Using `extend()` is advantageous over concatenation because it actually appends the elements of the new list to the original, rather than creating a new list from scratch like `+` does.\n",
    "\n",
    "### 5.1.3 Other operators"
   ]
  },
  {
   "cell_type": "code",
   "execution_count": 6,
   "metadata": {},
   "outputs": [
    {
     "name": "stdout",
     "output_type": "stream",
     "text": [
      "42\n",
      "2\n"
     ]
    }
   ],
   "source": [
    "ll = [12, 42, 2, 9]\n",
    "print(max(ll))\n",
    "print(min(ll))"
   ]
  },
  {
   "cell_type": "code",
   "execution_count": 18,
   "metadata": {},
   "outputs": [
    {
     "name": "stdout",
     "output_type": "stream",
     "text": [
      "[42, 12]\n",
      "[2, 9, 12]\n"
     ]
    }
   ],
   "source": [
    "from heapq import nlargest, nsmallest\n",
    "print(nlargest(2, ll))\n",
    "print(nsmallest(3, ll))"
   ]
  },
  {
   "cell_type": "markdown",
   "metadata": {},
   "source": [
    "## 5.2 List Type Built-in Methods"
   ]
  },
  {
   "cell_type": "code",
   "execution_count": 50,
   "metadata": {},
   "outputs": [
    {
     "name": "stdout",
     "output_type": "stream",
     "text": [
      "[12, 42, 2, 9, 89]\n"
     ]
    }
   ],
   "source": [
    "ll = [12, 42, 2, 9]\n",
    "ll.append(89)\n",
    "print(ll)"
   ]
  },
  {
   "cell_type": "code",
   "execution_count": 51,
   "metadata": {},
   "outputs": [
    {
     "name": "stdout",
     "output_type": "stream",
     "text": [
      "[14, 44, 4, 11, 91]\n"
     ]
    }
   ],
   "source": [
    "lll = []\n",
    "for i in ll:\n",
    "    lll.append(i+2)\n",
    "print(lll)"
   ]
  },
  {
   "cell_type": "code",
   "execution_count": 52,
   "metadata": {},
   "outputs": [
    {
     "data": {
      "text/plain": [
       "1"
      ]
     },
     "execution_count": 52,
     "metadata": {},
     "output_type": "execute_result"
    }
   ],
   "source": [
    "ll.count(12)"
   ]
  },
  {
   "cell_type": "code",
   "execution_count": 53,
   "metadata": {},
   "outputs": [
    {
     "name": "stdout",
     "output_type": "stream",
     "text": [
      "[12, 42, 2, 9, 89, 14, 44, 4, 11, 91]\n"
     ]
    }
   ],
   "source": [
    "ll.extend(lll)\n",
    "print(ll)"
   ]
  },
  {
   "cell_type": "code",
   "execution_count": 54,
   "metadata": {},
   "outputs": [
    {
     "name": "stdout",
     "output_type": "stream",
     "text": [
      "[12, 42, 2, 'a', 9, 89, 14, 44, 4, 11, 91]\n"
     ]
    }
   ],
   "source": [
    "ll.insert(3, 'a')\n",
    "print(ll)"
   ]
  },
  {
   "cell_type": "code",
   "execution_count": 55,
   "metadata": {},
   "outputs": [
    {
     "name": "stdout",
     "output_type": "stream",
     "text": [
      "[91, 11, 4, 44, 14, 89, 9, 'a', 2, 42, 12]\n"
     ]
    }
   ],
   "source": [
    "ll.reverse()\n",
    "print(ll)"
   ]
  },
  {
   "cell_type": "code",
   "execution_count": 56,
   "metadata": {},
   "outputs": [
    {
     "name": "stdout",
     "output_type": "stream",
     "text": [
      "[2, 4, 9, 11, 12, 14, 42, 44, 89, 91, 'a']\n"
     ]
    }
   ],
   "source": [
    "ll.sort()\n",
    "print(ll)"
   ]
  },
  {
   "cell_type": "code",
   "execution_count": 57,
   "metadata": {},
   "outputs": [
    {
     "data": {
      "text/plain": [
       "9"
      ]
     },
     "execution_count": 57,
     "metadata": {},
     "output_type": "execute_result"
    }
   ],
   "source": [
    "ll.pop(2)"
   ]
  },
  {
   "cell_type": "code",
   "execution_count": 58,
   "metadata": {},
   "outputs": [],
   "source": [
    "ll.remove('a')"
   ]
  },
  {
   "cell_type": "markdown",
   "metadata": {},
   "source": [
    "## 5.3 Special Features of Lists"
   ]
  },
  {
   "cell_type": "code",
   "execution_count": null,
   "metadata": {},
   "outputs": [
    {
     "name": "stdout",
     "output_type": "stream",
     "text": [
      " \n",
      "        p(U)sh \n",
      "        p(O)p\n",
      "        (V)iew\n",
      "        (Q)uit\n",
      "        Enter choice:\n",
      "        u\n",
      "\n",
      "You picked: [u]\n",
      "Enter new string: asd\n",
      " \n",
      "        p(U)sh \n",
      "        p(O)p\n",
      "        (V)iew\n",
      "        (Q)uit\n",
      "        Enter choice:\n",
      "        o\n",
      "\n",
      "You picked: [o]\n",
      "Removed [ stack.pop() ]\n",
      " \n",
      "        p(U)sh \n",
      "        p(O)p\n",
      "        (V)iew\n",
      "        (Q)uit\n",
      "        Enter choice:\n",
      "        s\n",
      "\n",
      "You picked: [s]\n",
      "Invalid option, try again\n",
      " \n",
      "        p(U)sh \n",
      "        p(O)p\n",
      "        (V)iew\n",
      "        (Q)uit\n",
      "        Enter choice:\n",
      "        v\n",
      "\n",
      "You picked: [v]\n",
      "['asd']\n"
     ]
    }
   ],
   "source": [
    "#!/usr/bin/env python\n",
    "\"\"\"Stack\"\"\"\n",
    "\n",
    "stack = []\n",
    "\n",
    "def pushit():\n",
    "    stack.append(raw_input('Enter new string: ').strip())\n",
    "\n",
    "def popit():\n",
    "    if len(stack) == 0:\n",
    "        print 'Cannot pop from an empty stack!' \n",
    "    else:\n",
    "        print 'Removed [', 'stack.pop()', ']'\n",
    "\n",
    "def viewstack():\n",
    "    print stack\n",
    "\n",
    "# calls str() internally\n",
    "\n",
    "CMDs = {'u': pushit, 'o': popit, 'v': viewstack}\n",
    "\n",
    "def showmenu():\n",
    "    pr = \"\"\" \n",
    "        p(U)sh \n",
    "        p(O)p\n",
    "        (V)iew\n",
    "        (Q)uit\n",
    "        Enter choice:\n",
    "        \"\"\"\n",
    "\n",
    "    while True:\n",
    "        while True:\n",
    "            try:\n",
    "                choice = raw_input(pr).strip()[0].lower() \n",
    "            except (EOFError,KeyboardInterrupt,IndexError):\n",
    "                choice = 'q'\n",
    "            print '\\nYou picked: [%s]' % choice \n",
    "            if choice not in 'uovq':\n",
    "                print 'Invalid option, try again'\n",
    "            else:\n",
    "                break\n",
    "        \n",
    "        if choice == 'q':\n",
    "            break\n",
    "        CMDs[choice]()\n",
    "\n",
    "if __name__ == '__main__':\n",
    "    showmenu()"
   ]
  },
  {
   "cell_type": "code",
   "execution_count": null,
   "metadata": {},
   "outputs": [],
   "source": [
    "#!/usr/bin/env python\n",
    "\n",
    "queue = []\n",
    "\n",
    "def enQ():\n",
    "    queue.append(raw_input('Enter new string: ').strip())\n",
    "\n",
    "def deQ():\n",
    "    if len(queue) == 0:\n",
    "        print 'Cannot pop from an empty queue!'\n",
    "    else:\n",
    "        print 'Removed [', ‘queue.pop(0)‘, ']'\n",
    "\n",
    "def viewQ():\n",
    "    print queue\n",
    "\n",
    "# calls str() internally\n",
    "\n",
    "CMDs = {'e': enQ, 'd': deQ, 'v': viewQ}\n",
    "\n",
    "def showmenu():\n",
    "    pr = \"\"\"\n",
    "        (E)nqueue\n",
    "        (D)equeue\n",
    "        (V)iew\n",
    "        (Q)uit\n",
    "        Enter choice:\n",
    "        \"\"\"\n",
    "    \n",
    "    while True:\n",
    "        while True:\n",
    "            try:\n",
    "                choice = raw_input(pr).strip()[0].lower()\n",
    "            except (EOFError,KeyboardInterrupt,IndexError):\n",
    "                choice = 'q'\n",
    "            print '\\nYou picked: [%s]' % choice\n",
    "            if choice not in 'devq':\n",
    "                print 'Invalid option, try again'\n",
    "            else:\n",
    "                break\n",
    "\n",
    "        if choice == 'q':\n",
    "            break\n",
    "        CMDs[choice]()\n",
    "\n",
    "if __name__ == '__main__':\n",
    "    showmenu()"
   ]
  }
 ],
 "metadata": {
  "kernelspec": {
   "display_name": "Python 2",
   "language": "python",
   "name": "python2"
  },
  "language_info": {
   "codemirror_mode": {
    "name": "ipython",
    "version": 2
   },
   "file_extension": ".py",
   "mimetype": "text/x-python",
   "name": "python",
   "nbconvert_exporter": "python",
   "pygments_lexer": "ipython2",
   "version": "2.7.15"
  }
 },
 "nbformat": 4,
 "nbformat_minor": 2
}
