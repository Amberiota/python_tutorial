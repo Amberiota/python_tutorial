{
 "cells": [
  {
   "cell_type": "markdown",
   "metadata": {},
   "source": [
    "# Class 4 Python Strings\n",
    "\n",
    "## 4.1 Python Sequences\n",
    "\n",
    "> Strings, lists and tuples are sequences of various Python objects.\n",
    "\n",
    "> Sequence types all share the same access model: ordered set with sequentially indexed offsets to get to each element.\n",
    "\n",
    "> The numbering scheme used starts from zero (0) and ends with one less than the length of the sequence—the reason for this is because we began at 0.\n",
    "\n",
    "### 4.1.1 Membership (`in`, `not in`)\n",
    "\n",
    "> The `in` and `not in` operators are Boolean in nature; they return True if the membership is confirmed and False otherwise.\n",
    "\n",
    "### 4.1.2 Concatenation (`+`)\n",
    "\n",
    "Concatetation in sequences is different from sum in numbers.\n",
    "\n",
    "Concatenation is not as efficient as `join`, especially when there are a number of items to be merged."
   ]
  },
  {
   "cell_type": "code",
   "execution_count": 12,
   "metadata": {},
   "outputs": [
    {
     "name": "stdout",
     "output_type": "stream",
     "text": [
      "peak memory: 38.86 MiB, increment: 0.49 MiB\n",
      "peak memory: 38.86 MiB, increment: 0.00 MiB\n",
      "peak memory: 38.86 MiB, increment: 0.00 MiB\n",
      "peak memory: 38.87 MiB, increment: 0.00 MiB\n",
      "1 loop, best of 3: 253 ms per loop\n"
     ]
    }
   ],
   "source": [
    "%load_ext memory_profiler\n",
    "%timeit %memit 'a' + 'b' + 'c' + 'd' + 'e'"
   ]
  },
  {
   "cell_type": "code",
   "execution_count": 13,
   "metadata": {},
   "outputs": [
    {
     "name": "stdout",
     "output_type": "stream",
     "text": [
      "peak memory: 38.87 MiB, increment: 0.00 MiB\n",
      "peak memory: 38.87 MiB, increment: 0.00 MiB\n",
      "peak memory: 38.87 MiB, increment: 0.00 MiB\n",
      "peak memory: 38.87 MiB, increment: 0.00 MiB\n",
      "1 loop, best of 3: 248 ms per loop\n"
     ]
    }
   ],
   "source": [
    "%timeit %memit ''.join(('a', 'b', 'c', 'd', 'e'))"
   ]
  },
  {
   "cell_type": "markdown",
   "metadata": {},
   "source": [
    "### 4.1.3 Slices\n",
    "\n",
    "__Individual slicing__\n",
    "\n",
    "> Sequences are structured data types whose elements are placed sequentially in an ordered manner.\n",
    "\n",
    "`sequences[index]`\n",
    "\n",
    "Index can be either positive or negative.\n",
    "\n",
    "1. Positive index starts from left (0) to right (`len(sequence)-1`);\n",
    "2. Negative index starts from right (-1) ro left (`-len(sequence)`).\n",
    "    \n",
    "> Accessing a group of elements is similar to accessing just a single item. Starting and ending indexes may be given, separated by a colon ( : ).\n",
    "\n",
    "\n",
    "__Group slicing__\n",
    "\n",
    "`sequence[starting_index:ending_index]`\n",
    "\n",
    "> Both starting_index and ending_index are optional, and if not provided, or if None is used as an index, the slice will go from the beginning of the sequence or until the end of the sequence, respectively.\n",
    "\n",
    "`sequence == sequence[:]`\n",
    "\n",
    "`sequence[0:ending_index] or sequence[:ending_index]`\n",
    "\n",
    "`sequence[starting_index:len(sequence)-1] or sequence[:len(sequence)-1]`\n",
    "\n",
    "reversed sequnce: `sequence[::-1]`\n",
    "\n",
    "> The starting and ending indices can exceed the length of the string.\n",
    "\n",
    "> Using None as an index has the same effect as a missing index."
   ]
  },
  {
   "cell_type": "markdown",
   "metadata": {},
   "source": [
    "### 4.1.4 Built-in Functions\n",
    "\n",
    "> If you pass a list to list(), a (shallow) copy of the list’s objects will be made and inserted into the new list.\n",
    "\n",
    "> A shallow copy is where only __references__ are copied…no new objects are made!\n",
    "\n",
    "> Note that `len()`, `reversed()`, and `sum()` can only accept sequences while the rest can take iterables."
   ]
  },
  {
   "cell_type": "code",
   "execution_count": 17,
   "metadata": {},
   "outputs": [
    {
     "name": "stdout",
     "output_type": "stream",
     "text": [
      "(0, 'a')\n",
      "(1, 'b')\n",
      "(2, 'c')\n"
     ]
    }
   ],
   "source": [
    "for order, item in enumerate(['a', 'b', 'c']): print(order, item)"
   ]
  },
  {
   "cell_type": "code",
   "execution_count": 18,
   "metadata": {},
   "outputs": [
    {
     "name": "stdout",
     "output_type": "stream",
     "text": [
      "(1, 'a')\n",
      "(2, 'b')\n",
      "(3, 'c')\n"
     ]
    }
   ],
   "source": [
    "for order, item in enumerate(['a', 'b', 'c'], start=1): print(order, item)"
   ]
  },
  {
   "cell_type": "code",
   "execution_count": 19,
   "metadata": {},
   "outputs": [
    {
     "data": {
      "text/plain": [
       "['a', 'b', 'c']"
      ]
     },
     "execution_count": 19,
     "metadata": {},
     "output_type": "execute_result"
    }
   ],
   "source": [
    "sorted(['a', 'c', 'b'])"
   ]
  },
  {
   "cell_type": "code",
   "execution_count": 21,
   "metadata": {},
   "outputs": [
    {
     "data": {
      "text/plain": [
       "['c', 'b', 'a']"
      ]
     },
     "execution_count": 21,
     "metadata": {},
     "output_type": "execute_result"
    }
   ],
   "source": [
    "sorted(['a', 'c', 'b'], reverse=True)"
   ]
  },
  {
   "cell_type": "code",
   "execution_count": 22,
   "metadata": {},
   "outputs": [
    {
     "data": {
      "text/plain": [
       "<listreverseiterator at 0x10e7c3510>"
      ]
     },
     "execution_count": 22,
     "metadata": {},
     "output_type": "execute_result"
    }
   ],
   "source": [
    "reversed(['a', 'c', 'b'])"
   ]
  },
  {
   "cell_type": "code",
   "execution_count": 23,
   "metadata": {},
   "outputs": [
    {
     "data": {
      "text/plain": [
       "['b', 'c', 'a']"
      ]
     },
     "execution_count": 23,
     "metadata": {},
     "output_type": "execute_result"
    }
   ],
   "source": [
    "list(reversed(['a', 'c', 'b']))"
   ]
  },
  {
   "cell_type": "code",
   "execution_count": 24,
   "metadata": {},
   "outputs": [
    {
     "data": {
      "text/plain": [
       "['c', 'b', 'a']"
      ]
     },
     "execution_count": 24,
     "metadata": {},
     "output_type": "execute_result"
    }
   ],
   "source": [
    "list(reversed(sorted(['a', 'c', 'b'])))"
   ]
  },
  {
   "cell_type": "code",
   "execution_count": 25,
   "metadata": {},
   "outputs": [
    {
     "data": {
      "text/plain": [
       "[('a', '1'), ('c', '2'), ('b', '0')]"
      ]
     },
     "execution_count": 25,
     "metadata": {},
     "output_type": "execute_result"
    }
   ],
   "source": [
    "zip(['a', 'c', 'b'], ['1', '2', '0'])"
   ]
  },
  {
   "cell_type": "markdown",
   "metadata": {},
   "source": [
    "## 4.2 Strings\n",
    "\n",
    "> Python treats single quotes the same as double quotes.\n",
    "\n",
    "> Strings are a literal or scalar type, meaning they are treated by the interpreter as a singular value and are not containers that hold other Python objects. \n",
    "\n",
    "> Strings are immutable, meaning that changing an element of a string requires creating a new string."
   ]
  },
  {
   "cell_type": "code",
   "execution_count": 26,
   "metadata": {},
   "outputs": [
    {
     "name": "stdout",
     "output_type": "stream",
     "text": [
      "Welcome to the Identifier Checker v1.0\n",
      "Testees must be at least 2 chars long.\n",
      "Identifier to test? as\n",
      "okay as an identifier\n"
     ]
    }
   ],
   "source": [
    "#!/usr/bin/env python\n",
    "\n",
    "import string\n",
    "\n",
    "alphas = string.ascii_letters + '_'\n",
    "nums = string.digits \n",
    "alphnum = alphas + nums\n",
    "\n",
    "print 'Welcome to the Identifier Checker v1.0'\n",
    "print 'Testees must be at least 2 chars long.'\n",
    "\n",
    "myInput = raw_input('Identifier to test? ')\n",
    "\n",
    "if len(myInput) > 1:\n",
    "    if myInput[0] not in alphas:\n",
    "        print '''invalid: first symbol must be 16 alphabetic'''\n",
    "    else:\n",
    "        for otherChar in myInput[1:]:\n",
    "            if otherChar not in alphnum: # ! not efficient\n",
    "                print '''invalid: remaining 22 symbols must be alphanumeric'''\n",
    "                break\n",
    "            else:\n",
    "                print \"okay as an identifier\""
   ]
  },
  {
   "cell_type": "markdown",
   "metadata": {},
   "source": [
    "### 4.2.1 Concatenation\n",
    "\n",
    "> When concatenating regular and Unicode strings, regular strings are converted to Unicode first before the operation occurs.\n",
    "\n",
    "`'Hello' + u' ' + 'World' + u'!'`\n",
    "\n",
    "### 4.2.2 Format string\n",
    "\n",
    "`format_string % (arguments_to_convert)`"
   ]
  },
  {
   "cell_type": "code",
   "execution_count": 51,
   "metadata": {},
   "outputs": [
    {
     "data": {
      "text/plain": [
       "'MM/DD/YY = 02/15/67'"
      ]
     },
     "execution_count": 51,
     "metadata": {},
     "output_type": "execute_result"
    }
   ],
   "source": [
    "\"MM/DD/YY = %02d/%02d/%d\" % (2, 15, 67)  # d for int"
   ]
  },
  {
   "cell_type": "code",
   "execution_count": 52,
   "metadata": {},
   "outputs": [
    {
     "data": {
      "text/plain": [
       "'Your host is: earth'"
      ]
     },
     "execution_count": 52,
     "metadata": {},
     "output_type": "execute_result"
    }
   ],
   "source": [
    "'Your host is: %s' % 'earth' # s for str"
   ]
  },
  {
   "cell_type": "code",
   "execution_count": 53,
   "metadata": {},
   "outputs": [
    {
     "data": {
      "text/plain": [
       "'1234.567890'"
      ]
     },
     "execution_count": 53,
     "metadata": {},
     "output_type": "execute_result"
    }
   ],
   "source": [
    "'%f' % 1234.567890 # f for floating"
   ]
  },
  {
   "cell_type": "code",
   "execution_count": 54,
   "metadata": {},
   "outputs": [
    {
     "data": {
      "text/plain": [
       "'1234.57'"
      ]
     },
     "execution_count": 54,
     "metadata": {},
     "output_type": "execute_result"
    }
   ],
   "source": [
    "'%.2f' % 1234.567890 # .2f for floating with 2 decimals"
   ]
  },
  {
   "cell_type": "markdown",
   "metadata": {},
   "source": [
    "## 4.3 String Built-in Methods\n",
    "\n",
    "`string.decode(encoding='UTF-8', errors='strict')`\n",
    "\n",
    "`string.encode(encoding='UTF-8', errors='strict')`\n",
    "\n",
    "`string.join(seq)`\n",
    "\n",
    "`string.split(str=\"\", num=string.count(str))`\n",
    "\n",
    "`string.translate(str, del=\"\")`\n",
    "\n",
    "## 4.4 Special Features of Strings\n",
    "\n",
    "`\\t` # tab\n",
    "\n",
    "`\\n` # new line\n",
    "\n",
    "`\\\"` # double quote\n",
    "\n",
    "`\\'` # single quote\n",
    "\n",
    "`\\\\` # backslash\n",
    "\n",
    "\n",
    "## 4.5 Unicode\n",
    "\n",
    "\n",
    "### 4.5.1 ASCII VS Unicode VS UTF-8\n",
    "\n",
    "> ASCII was simple. Every English character was stored in the computer as a seven bit number between 32 and 126.\n",
    "\n",
    "> Unicode can currently represent over 90,000 characters.\n",
    "\n",
    "> UTF-8 may use one or two bytes to represent a letter, three (mainly) for CJK/East Asian characters, and four for some rare, special use, or historic characters.\n",
    "\n",
    "### 4.5.2 Using unicode in real life\n",
    "\n",
    "__Always convert str to unicde in Python.__\n",
    "\n",
    "__UTF-8 in, unicode() processes, and UTF-8 out.__\n",
    "\n",
    "> • Always prefix your string literals with u.\n",
    "\n",
    "> • Never use str()… always use unicode() instead.\n",
    "\n",
    "> • Never use the outdated string module—it blows up when you pass it any non-ASCII characters.\n",
    "\n",
    "> • Only call the encode() method right before you write your text to a file, database, or the network, and only call the decode() method when you are reading it back in."
   ]
  },
  {
   "cell_type": "code",
   "execution_count": 67,
   "metadata": {},
   "outputs": [
    {
     "name": "stdout",
     "output_type": "stream",
     "text": [
      "Hello world\n"
     ]
    }
   ],
   "source": [
    "#!/usr/bin/env python\n",
    "''' An example of reading and writing Unicode strings: \n",
    "Writes a Unicode string to a file in utf-8 and reads it back in.'''\n",
    "\n",
    "CODEC = 'utf-8' \n",
    "FILE = 'unicode.txt'\n",
    "\n",
    "hello_out = u\"Hello world\\n\"\n",
    "bytes_out = hello_out.encode(CODEC)\n",
    "f = open(FILE, \"w\")\n",
    "f.write(bytes_out)\n",
    "f.close()\n",
    "f = open(FILE, \"r\")\n",
    "bytes_in = f.read()\n",
    "f.close()\n",
    "hello_in = bytes_in.decode(CODEC)\n",
    "print hello_in"
   ]
  },
  {
   "cell_type": "code",
   "execution_count": 68,
   "metadata": {},
   "outputs": [],
   "source": [
    "def to_uni(string):\n",
    "    return string.decode('utf-8', 'ignore') if isinstance(string, str) else string\n",
    "\n",
    "\n",
    "def to_str(uni_str):\n",
    "    \"\"\"\n",
    "    convert both unicode and int to str\n",
    "    \"\"\"\n",
    "    return uni_str.encode('utf-8', 'ignore') if isinstance(uni_str, (unicode, int)) else uni_str"
   ]
  }
 ],
 "metadata": {
  "kernelspec": {
   "display_name": "Python 2",
   "language": "python",
   "name": "python2"
  },
  "language_info": {
   "codemirror_mode": {
    "name": "ipython",
    "version": 2
   },
   "file_extension": ".py",
   "mimetype": "text/x-python",
   "name": "python",
   "nbconvert_exporter": "python",
   "pygments_lexer": "ipython2",
   "version": "2.7.15"
  }
 },
 "nbformat": 4,
 "nbformat_minor": 2
}
