{
 "cells": [
  {
   "cell_type": "markdown",
   "metadata": {},
   "source": [
    "# Class 9 Python Conditions and Loops\n",
    "\n",
    "## 9.1 `if` Statement\n",
    "\n",
    "1. Grammar \n",
    "\n",
    "`if expression:\n",
    "    expr_true_suite`\n",
    "    \n",
    "2. The `True` condition can be omitted:"
   ]
  },
  {
   "cell_type": "code",
   "execution_count": 21,
   "metadata": {},
   "outputs": [
    {
     "name": "stdout",
     "output_type": "stream",
     "text": [
      "11\n",
      "11\n"
     ]
    }
   ],
   "source": [
    "x = 9\n",
    "\n",
    "if (x > 3) is True:\n",
    "    y = x + 2\n",
    "    print(y)\n",
    "    \n",
    "if x > 3:\n",
    "    y = x + 2\n",
    "    print(y)"
   ]
  },
  {
   "cell_type": "markdown",
   "metadata": {},
   "source": [
    "3. The Boolean operators and, or, and not can be used to provide multiple conditional expressions or perform negation of expressions in the same if statement."
   ]
  },
  {
   "cell_type": "code",
   "execution_count": 22,
   "metadata": {},
   "outputs": [
    {
     "name": "stdout",
     "output_type": "stream",
     "text": [
      "3\n",
      "3\n"
     ]
    }
   ],
   "source": [
    "x = 1\n",
    "\n",
    "if (x > 3) is not True:\n",
    "    y = x + 2\n",
    "    print(y)\n",
    "    \n",
    "if not x > 3:\n",
    "    y = x + 2\n",
    "    print(y)"
   ]
  },
  {
   "cell_type": "markdown",
   "metadata": {},
   "source": [
    "## 9.2 `else` Statement\n",
    "\n",
    "1. Grammar\n",
    "\n",
    "`if expression:\n",
    "    expr_true_suite\n",
    " else:\n",
    "     expr_false_suite`\n",
    "\n",
    "2. The else statement identifies a block of code to be executed if the conditional expression of the if statement resolves to a false Boolean value.\n",
    "\n",
    "\n",
    "## 9.3 `elif` Statement\n",
    "\n",
    "1. Grammar\n",
    "\n",
    "`if expression1:\n",
    "    expr1_true_suite \n",
    " elif expression2:\n",
    "    expr2_true_suite\n",
    "            :\n",
    " elif expressionN:\n",
    "    exprN_true_suite\n",
    " else:\n",
    "    none_of_the_above_suite`\n",
    "\n",
    "2. There can be an arbitrary number of elif statements following an if.\n",
    "\n",
    "3. The last statement within an `elif` suite can also start with `elif`.\n",
    "\n",
    "4. We can often replace `elif` structure with a python data type, e.g.: a dictionary."
   ]
  },
  {
   "cell_type": "code",
   "execution_count": 4,
   "metadata": {},
   "outputs": [
    {
     "name": "stdout",
     "output_type": "stream",
     "text": [
      "1\n",
      "1\n"
     ]
    }
   ],
   "source": [
    "x = 1\n",
    "    \n",
    "if x > 3:\n",
    "    y = x + 2\n",
    "else:\n",
    "    y = x\n",
    "\n",
    "print(y)\n",
    "    \n",
    "y = x + 2 if x > 3 else x\n",
    "\n",
    "print(y)"
   ]
  },
  {
   "cell_type": "code",
   "execution_count": 1,
   "metadata": {},
   "outputs": [
    {
     "name": "stdout",
     "output_type": "stream",
     "text": [
      "create item\n",
      "create item\n"
     ]
    }
   ],
   "source": [
    "cmd = 'create'\n",
    "\n",
    "if cmd == 'create':\n",
    "    action = \"create item\"\n",
    "elif cmd == 'delete':\n",
    "    action = 'delete item'\n",
    "elif cmd == 'update':\n",
    "    action = 'update item'\n",
    "\n",
    "############\n",
    "\n",
    "cmd_dict = {'create': 'create item',\n",
    "           'delete': 'delete item',\n",
    "           'update': 'update item'}\n",
    "\n",
    "command = 'create'\n",
    "\n",
    "if command in cmd_dict.keys():\n",
    "    print(cmd_dict[command])\n",
    "else:\n",
    "    print('invalid choice... try again!')\n",
    "    \n",
    "print(cmd_dict[command]) if command in cmd_dict.keys() else 'invalid choice... try again!'"
   ]
  },
  {
   "cell_type": "markdown",
   "metadata": {},
   "source": [
    "## 9.4 Conditional Expressions\n",
    "\n",
    "1. Grammar\n",
    "\n",
    "`do something if True else do somethine else`\n",
    "\n",
    "`print(cmd_dict[command]) if command in cmd_dict.keys() else 'invalid choice... try again!'`\n",
    "\n",
    "## 9.5 `while` Statement\n",
    "\n",
    "1. Grammar\n",
    "\n",
    "`while expression:\n",
    "    suite_to_repeat`\n",
    "    \n",
    "2. Counting loop:\n",
    "\n",
    "`count = 0 \n",
    " while (count < 9):\n",
    "     print 'the index is:', count \n",
    "     count += 1`\n",
    "     \n",
    "__Using `for` loop to replace the counting loop:__\n",
    "\n",
    "`for count in range(0,9):\n",
    "    print('the index is:', count)\n",
    "`\n",
    "     \n",
    "3. Infinite loop:\n",
    "\n",
    "`while True:\n",
    "    handle, indata = wait_for_client_connect() \n",
    "    outdata = process_request(indata) \n",
    "    ack_result_to_client(handle, outdata)`\n",
    "\n",
    "\n",
    "## 9.6 `for` Statement\n",
    "\n",
    "1. Grammar\n",
    "\n",
    "`for iter_var in iterable:\n",
    "    suite_to_repeat`\n",
    "    \n",
    "    \n",
    "## 9.7 `range` Statement\n",
    "\n",
    "1. Grammar\n",
    "\n",
    "`range(start, end, step=2)\n",
    " range(end)\n",
    " range(start, end)\n",
    "`\n",
    "\n",
    "2. In Python 2, we prefer using `xrange()` than `range()` as the previous one is an iterator. Python 3 replaces `xrange()` with `range()`, so we can safely use `range()` in Python 3.\n",
    "\n",
    "\n",
    "## 9.8 `break` Statement\n",
    "\n",
    "1. The `break` statement in Python terminates the current loop and resumes execution at the next statement."
   ]
  },
  {
   "cell_type": "code",
   "execution_count": 6,
   "metadata": {},
   "outputs": [
    {
     "name": "stdout",
     "output_type": "stream",
     "text": [
      "5 is the largest factor of 10\n"
     ]
    }
   ],
   "source": [
    "num = 10\n",
    "count = num / 2 \n",
    "while count > 0:\n",
    "    if num % count == 0:\n",
    "        print count, 'is the largest factor of', num \n",
    "        break \n",
    "    count -= 1"
   ]
  },
  {
   "cell_type": "markdown",
   "metadata": {},
   "source": [
    "## 9.9 `continue` Statement\n",
    "\n",
    "1. Rather than beginning the next iteration of the loop when a continue statement is encountered, a continue statement terminates or discards the remaining statements in the current loop iteration and goes back to the top."
   ]
  },
  {
   "cell_type": "code",
   "execution_count": null,
   "metadata": {},
   "outputs": [],
   "source": [
    "valid = False \n",
    "count = 3 \n",
    "while count > 0:\n",
    "    input = raw_input(\"enter password\") # check for valid passwd \n",
    "    for eachPasswd in passwdList:\n",
    "        if input == eachPasswd: \n",
    "            valid = True \n",
    "            break \n",
    "    if not valid:\n",
    "        print \"invalid input\"\n",
    "        count -= 1\n",
    "        continue\n",
    "    else:\n",
    "        break"
   ]
  }
 ],
 "metadata": {
  "kernelspec": {
   "display_name": "Python 2",
   "language": "python",
   "name": "python2"
  },
  "language_info": {
   "codemirror_mode": {
    "name": "ipython",
    "version": 2
   },
   "file_extension": ".py",
   "mimetype": "text/x-python",
   "name": "python",
   "nbconvert_exporter": "python",
   "pygments_lexer": "ipython2",
   "version": "2.7.15"
  }
 },
 "nbformat": 4,
 "nbformat_minor": 2
}
